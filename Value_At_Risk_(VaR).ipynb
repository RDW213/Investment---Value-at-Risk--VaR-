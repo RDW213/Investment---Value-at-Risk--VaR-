{
  "nbformat": 4,
  "nbformat_minor": 0,
  "metadata": {
    "colab": {
      "provenance": []
    },
    "kernelspec": {
      "name": "python3",
      "display_name": "Python 3"
    },
    "language_info": {
      "name": "python"
    }
  },
  "cells": [
    {
      "cell_type": "code",
      "execution_count": null,
      "metadata": {
        "id": "GpOdmeqPdM5w"
      },
      "outputs": [],
      "source": [
        "import pandas as pd\n",
        "import numpy as np\n",
        "import yfinance as yf\n",
        "import datetime as dt\n",
        "import requests\n",
        "\n",
        "from datetime import datetime, timedelta\n",
        "from scipy.stats import norm, skew, kurtosis"
      ]
    },
    {
      "cell_type": "code",
      "source": [
        "now = dt.datetime.now()\n",
        "\n",
        "start = dt.datetime(now.year - 3, now.month, now.day)\n",
        "end = dt.datetime(now.year, now.month, now.day)\n",
        "\n",
        "stock_data= yf.download('MSFT', start, end)\n",
        "\n",
        "# Calculate daily returns\n",
        "returns_series = stock_data['Close'].pct_change().dropna()\n",
        "\n",
        "# Define the confidence level (percentage)\n",
        "confidence_level = 5"
      ],
      "metadata": {
        "colab": {
          "base_uri": "https://localhost:8080/"
        },
        "id": "Mes_S5tMncyv",
        "outputId": "bc921704-f49c-4250-84a4-0548d56da836"
      },
      "execution_count": null,
      "outputs": [
        {
          "output_type": "stream",
          "name": "stdout",
          "text": [
            "\r[*********************100%%**********************]  1 of 1 completed\n"
          ]
        }
      ]
    },
    {
      "cell_type": "markdown",
      "source": [
        "**Historical VaR**\n",
        "\n",
        "The var_historic function is designed to calculate the historic Value at Risk (VaR) for a given series of returns. VaR is a measure used in risk management to estimate the potential loss on an investment over a specified time period at a certain confidence level. The function takes a series of returns (r) and a percentage level (default is 1%) and returns the historic VaR at that specified level."
      ],
      "metadata": {
        "id": "U90FZjkjlbQI"
      }
    },
    {
      "cell_type": "code",
      "source": [
        "def var_historic(r, confidence_level=5):\n",
        "    \"\"\"\n",
        "    Takes in a series of returns (r), and the percentage level\n",
        "(level)\n",
        "    Returns the historic Value at Risk at a specified level\n",
        "    i.e. returns the number such that \"level\" percent of the returns\n",
        "    fall below that number, and the (100-level) percent are above\n",
        "    \"\"\"\n",
        "    if isinstance(r, pd.DataFrame):\n",
        "        return r.aggregate(var_historic, level = confidence_level)\n",
        "    elif isinstance(r, pd.Series):\n",
        "        return np.percentile(r, confidence_level)\n",
        "    else:\n",
        "        raise TypeError(\"Expected r to be a Series or DataFrame\")"
      ],
      "metadata": {
        "id": "Yiv8TeE-lObF"
      },
      "execution_count": null,
      "outputs": []
    },
    {
      "cell_type": "code",
      "source": [
        "# Call the var_historic function\n",
        "historic_var_result = var_historic(returns_series, confidence_level)\n",
        "\n",
        "# Print the result\n",
        "print(f\"Historic Value at Risk at {confidence_level}% confidence level: {historic_var_result*100}%\")\n",
        "#print(f\"There is a 5% chance that the daily loss will be at least {abs(historic_var_result*100):.2f}%.\")"
      ],
      "metadata": {
        "colab": {
          "base_uri": "https://localhost:8080/"
        },
        "id": "MLnCqq90nSFY",
        "outputId": "a5c45626-7345-4392-d016-ed95ffb20eef"
      },
      "execution_count": null,
      "outputs": [
        {
          "output_type": "stream",
          "name": "stdout",
          "text": [
            "Historic Value at Risk at 5% confidence level: -2.7017046575705828%\n"
          ]
        }
      ]
    },
    {
      "cell_type": "markdown",
      "source": [
        "**Parametric and Semi-Parametric VaR**"
      ],
      "metadata": {
        "id": "dQPWiLNcl4r0"
      }
    },
    {
      "cell_type": "markdown",
      "source": [
        "Another way to calculate VaR is to assume the set of possible outcomes behaves like a Normal (Gaussian) Distribution.\n",
        "\n",
        "The Normal Distribution is not necessarily the best way to describe returns. However, it is a very good way to picture the concepts, and it is a good starting point for us to elaborate on more complex and realistic scenarios.\n",
        "The main drawback of the parametric approach is that real world returns usually have a distribution with “fat tails” (high kurtosis)."
      ],
      "metadata": {
        "id": "j9WQiLdur38i"
      }
    },
    {
      "cell_type": "code",
      "source": [
        "def var_gaussian(r, c_level=5, modified=False):\n",
        "    \"\"\"\n",
        "    Returns the Parametric Gauuian VaR of a Series or DataFrame\n",
        "    If \"modified\" is True, then the modified VaR is returned,\n",
        "    using the Cornish-Fisher modification\n",
        "    \"\"\"\n",
        "    # compute the Z score assuming it was Gaussian\n",
        "    z = norm.ppf(c_level/100)\n",
        "    if modified:\n",
        "        # modify the Z score based on observed skewness and kurtosis\n",
        "        s = skew(r)\n",
        "        k = kurtosis(r)\n",
        "        z = (z +\n",
        "                (z**2 - 1)*s/6 +\n",
        "                (z**3 -3*z)*(k-3)/24 -\n",
        "                (2*z**3 - 5*z)*(s**2)/36\n",
        "            )\n",
        "    return (r.mean() + z*r.std(ddof=0))"
      ],
      "metadata": {
        "id": "PF5MKKsYl1d9"
      },
      "execution_count": null,
      "outputs": []
    },
    {
      "cell_type": "code",
      "source": [
        "# Call the var_gaussian function without modification\n",
        "gaussian_var_result = var_gaussian(returns_series, c_level=confidence_level, modified=False)\n",
        "\n",
        "# Call the var_gaussian function with modification\n",
        "modified_gaussian_var_result = var_gaussian(returns_series, c_level=confidence_level, modified=True)\n",
        "\n",
        "# Print the results\n",
        "print(f\"Gaussian VaR at {confidence_level}% confidence level (without modification): {gaussian_var_result*100}%\")\n",
        "#print(f\"There is a 5% chance that the daily loss will be at least {abs(gaussian_var_result*100):.2f}%.\")\n",
        "\n",
        "print(f\"Gaussian VaR at {confidence_level}% confidence level (with modification): {modified_gaussian_var_result*100}%\")\n",
        "#print(f\"There is a 5% chance that the daily loss will be at least {abs(modified_gaussian_var_result*100):.2f}%.\")"
      ],
      "metadata": {
        "id": "7QnCWpZYmEMb",
        "colab": {
          "base_uri": "https://localhost:8080/"
        },
        "outputId": "7a256b9a-301a-4151-b17a-a94dbfe8f627"
      },
      "execution_count": null,
      "outputs": [
        {
          "output_type": "stream",
          "name": "stdout",
          "text": [
            "Gaussian VaR at 5% confidence level (without modification): -2.7965282480357057%\n",
            "Gaussian VaR at 5% confidence level (with modification): -2.8016078618944884%\n"
          ]
        }
      ]
    }
  ]
}